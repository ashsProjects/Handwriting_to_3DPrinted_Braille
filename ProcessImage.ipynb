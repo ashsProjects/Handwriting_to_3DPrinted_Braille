{
 "cells": [
  {
   "cell_type": "code",
   "execution_count": 42,
   "metadata": {},
   "outputs": [],
   "source": [
    "import cv2\n",
    "import pandas as pd\n",
    "import numpy as np\n",
    "import os"
   ]
  },
  {
   "cell_type": "code",
   "execution_count": 81,
   "metadata": {},
   "outputs": [
    {
     "data": {
      "text/plain": [
       "True"
      ]
     },
     "execution_count": 81,
     "metadata": {},
     "output_type": "execute_result"
    }
   ],
   "source": [
    "#read the one image from Images folder\n",
    "try:\n",
    "    image_path = os.listdir('InputImage')[0]\n",
    "except:\n",
    "    print('There are no files in Images.')\n",
    "image = cv2.imread('InputImage/'+image_path, 0)\n",
    "image_copy = image.copy()\n",
    "\n",
    "#Apply Gaussian blur to reduce noise-Used ChatGPT to do this\n",
    "blurred_image = cv2.GaussianBlur(image, (5,5),0)\n",
    "\n",
    "#Adjust contrast and brightness\n",
    "processed_image = cv2.convertScaleAbs(blurred_image, alpha=1.5, beta=10)\n",
    "\n",
    "#color-inversion\n",
    "inverted_image = 255-processed_image\n",
    "inverted_image[inverted_image < 150] = 0\n",
    "#Remove comment if processed image needs to be saved as a jpg\n",
    "cv2.imwrite(os.path.join('ProcessedImage/', 'pre_processed_image.jpg'), inverted_image)\n"
   ]
  },
  {
   "cell_type": "code",
   "execution_count": 82,
   "metadata": {},
   "outputs": [],
   "source": [
    "_, binary_image = cv2.threshold(image, 0, 255, cv2.THRESH_BINARY + cv2.THRESH_OTSU)"
   ]
  },
  {
   "cell_type": "code",
   "execution_count": 83,
   "metadata": {},
   "outputs": [],
   "source": [
    "# Apply morphological operations to clean up the binary image\n",
    "kernel = np.ones((10, 10), np.uint8)\n",
    "binary_image = cv2.morphologyEx(binary_image, cv2.MORPH_CLOSE, kernel)"
   ]
  },
  {
   "cell_type": "code",
   "execution_count": 84,
   "metadata": {},
   "outputs": [],
   "source": [
    "# Find contours in the binary image\n",
    "contours, _ = cv2.findContours(inverted_image, cv2.RETR_EXTERNAL, cv2.CHAIN_APPROX_SIMPLE)"
   ]
  },
  {
   "cell_type": "code",
   "execution_count": 85,
   "metadata": {},
   "outputs": [
    {
     "data": {
      "text/plain": [
       "True"
      ]
     },
     "execution_count": 85,
     "metadata": {},
     "output_type": "execute_result"
    }
   ],
   "source": [
    "individual_letters = []\n",
    "\n",
    "for i, contour in enumerate(contours):\n",
    "    x, y, w, h = cv2.boundingRect(contour)\n",
    "    cv2.rectangle(image, (x, y), (x + w, y + h), (0, 255, 0), 1)\n",
    "    individual_letters.append(image[y:y+h, x:x+h])\n",
    "cv2.imwrite('ArchivedImages/image_with_contours.jpg', image)"
   ]
  },
  {
   "cell_type": "code",
   "execution_count": 75,
   "metadata": {},
   "outputs": [],
   "source": [
    "#Use image copy instead of image so the contour lines are not printed\n",
    "padding = 5  # You can change this value\n",
    "\n",
    "for i, contour in enumerate(contours):\n",
    "    # Filter out small contours that may be noise\n",
    "    if cv2.contourArea(contour) > 200:\n",
    "        x, y, w, h = cv2.boundingRect(contour)\n",
    "        \n",
    "        # Add padding to the bounding box\n",
    "        x -= padding\n",
    "        y -= padding\n",
    "        w += 2 * padding\n",
    "        h += 2 * padding\n",
    "\n",
    "        # Ensure the bounding box stays within the image boundaries\n",
    "        x = max(0, x)\n",
    "        y = max(0, y)\n",
    "        w = min(image_copy.shape[1] - x, w)\n",
    "        h = min(image_copy.shape[0] - y, h)\n",
    "        \n",
    "        # Extract the letter from the original image with padding\n",
    "        letter = image_copy[y:y+h, x:x+w]\n",
    "        \n",
    "        # Save the letter as a separate image\n",
    "        cv2.imwrite(f\"IndividualLetters/letter_{i}.png\", letter)"
   ]
  },
  {
   "cell_type": "code",
   "execution_count": 80,
   "metadata": {},
   "outputs": [],
   "source": [
    "#Clear folders: IndividualLetters, InputImage, ProcessedImage for next word\n",
    "for f_name in os.listdir(path='InputImage'):\n",
    "    os.remove(\"InputImage/\" + f_name)\n",
    "for f_name in os.listdir(path='ProcessedImage'):\n",
    "    os.remove(\"ProcessedImage/\" + f_name)\n",
    "for f_name in os.listdir(path='IndividualLetters'):\n",
    "    os.remove(\"IndividualLetters/\" + f_name)"
   ]
  },
  {
   "cell_type": "code",
   "execution_count": null,
   "metadata": {},
   "outputs": [],
   "source": []
  }
 ],
 "metadata": {
  "kernelspec": {
   "display_name": "Python 3",
   "language": "python",
   "name": "python3"
  },
  "language_info": {
   "codemirror_mode": {
    "name": "ipython",
    "version": 3
   },
   "file_extension": ".py",
   "mimetype": "text/x-python",
   "name": "python",
   "nbconvert_exporter": "python",
   "pygments_lexer": "ipython3",
   "version": "3.11.4"
  }
 },
 "nbformat": 4,
 "nbformat_minor": 2
}

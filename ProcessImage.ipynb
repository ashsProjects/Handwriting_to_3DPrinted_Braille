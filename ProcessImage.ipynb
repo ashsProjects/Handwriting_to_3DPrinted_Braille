{
 "cells": [
  {
   "cell_type": "code",
   "execution_count": 1,
   "metadata": {},
   "outputs": [],
   "source": [
    "import cv2\n",
    "import pandas as pd\n",
    "import numpy as np\n",
    "import os"
   ]
  },
  {
   "cell_type": "code",
   "execution_count": 25,
   "metadata": {},
   "outputs": [
    {
     "data": {
      "text/plain": [
       "True"
      ]
     },
     "execution_count": 25,
     "metadata": {},
     "output_type": "execute_result"
    }
   ],
   "source": [
    "#read the one image from Images folder\n",
    "try:\n",
    "    image_path = os.listdir('InputImage')[0]\n",
    "except:\n",
    "    print('There are no files in Images.')\n",
    "image = cv2.imread('InputImage/'+image_path, 0)\n",
    "image_copy = image.copy()\n",
    "\n",
    "#Apply Gaussian blur to reduce noise-Used ChatGPT to do this\n",
    "blurred_image = cv2.GaussianBlur(image, (5,5),0)\n",
    "\n",
    "#Adjust contrast and brightness\n",
    "processed_image = cv2.convertScaleAbs(blurred_image, alpha=1.5, beta=10)\n",
    "\n",
    "#color-inversion\n",
    "inverted_image = 255-processed_image\n",
    "inverted_image[inverted_image < 150] = 0"
   ]
  },
  {
   "cell_type": "code",
   "execution_count": 26,
   "metadata": {},
   "outputs": [],
   "source": [
    "# Find contours in the binary image\n",
    "contours, _ = cv2.findContours(inverted_image, cv2.RETR_EXTERNAL, cv2.CHAIN_APPROX_SIMPLE)"
   ]
  },
  {
   "cell_type": "code",
   "execution_count": 27,
   "metadata": {},
   "outputs": [],
   "source": [
    "#Sort the contours based on x-values so the letters are in order\n",
    "sorted_contours = sorted(contours, key=lambda contour: cv2.boundingRect(contour)[0])"
   ]
  },
  {
   "cell_type": "code",
   "execution_count": 28,
   "metadata": {},
   "outputs": [
    {
     "data": {
      "text/plain": [
       "True"
      ]
     },
     "execution_count": 28,
     "metadata": {},
     "output_type": "execute_result"
    }
   ],
   "source": [
    "#Use image copy instead of image so the contour lines are not printed\n",
    "padding = 5  # You can change this value\n",
    "\n",
    "for i, contour in enumerate(sorted_contours):\n",
    "    # Filter out small contours that may be noise\n",
    "    if cv2.contourArea(contour) > 200:\n",
    "        x, y, w, h = cv2.boundingRect(contour)\n",
    "        cv2.rectangle(image, (x, y), (x + w, y + h), (0, 255, 0), 1)\n",
    "        \n",
    "        # Add padding to the bounding box\n",
    "        x -= padding\n",
    "        y -= padding\n",
    "        w += 2 * padding\n",
    "        h += 2 * padding\n",
    "\n",
    "        # Ensure the bounding box stays within the image boundaries\n",
    "        x = max(0, x)\n",
    "        y = max(0, y)\n",
    "        w = min(image_copy.shape[1] - x, w)\n",
    "        h = min(image_copy.shape[0] - y, h)\n",
    "        \n",
    "        # Extract the letter from the original image with padding\n",
    "        letter = image_copy[y:y+h, x:x+w]\n",
    "        \n",
    "        #resize the images to 25x25 so there are 500 features\n",
    "        letter = cv2.resize(letter, (25,25))\n",
    "        \n",
    "        # Save the letter as a separate image\n",
    "        cv2.imwrite(f\"IndividualLetters/letter_{i}.png\", letter)\n",
    "cv2.imwrite('ArchivedImages/image_with_contours.jpg', image)"
   ]
  },
  {
   "cell_type": "code",
   "execution_count": 24,
   "metadata": {},
   "outputs": [],
   "source": [
    "#Clear folders: IndividualLetters, InputImage, ProcessedImage for next word\n",
    "for f_name in os.listdir(path='InputImage'):\n",
    "    os.remove(\"InputImage/\" + f_name)\n",
    "for f_name in os.listdir(path='ProcessedImage'):\n",
    "    os.remove(\"ProcessedImage/\" + f_name)\n",
    "for f_name in os.listdir(path='IndividualLetters'):\n",
    "    os.remove(\"IndividualLetters/\" + f_name)"
   ]
  },
  {
   "cell_type": "code",
   "execution_count": 15,
   "metadata": {},
   "outputs": [
    {
     "name": "stdout",
     "output_type": "stream",
     "text": [
      "(178, 84, 34, 41)\n"
     ]
    }
   ],
   "source": [
    "print(cv2.boundingRect(contours[0]))"
   ]
  }
 ],
 "metadata": {
  "kernelspec": {
   "display_name": "Python 3",
   "language": "python",
   "name": "python3"
  },
  "language_info": {
   "codemirror_mode": {
    "name": "ipython",
    "version": 3
   },
   "file_extension": ".py",
   "mimetype": "text/x-python",
   "name": "python",
   "nbconvert_exporter": "python",
   "pygments_lexer": "ipython3",
   "version": "3.11.4"
  }
 },
 "nbformat": 4,
 "nbformat_minor": 2
}

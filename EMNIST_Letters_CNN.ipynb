{
  "cells": [
    {
      "cell_type": "markdown",
      "metadata": {
        "colab_type": "text",
        "id": "teSUdzq1zT3h"
      },
      "source": [
        "# Handwritten Lower and Upper case letter recognition with Keras CNN"
      ]
    },
    {
      "cell_type": "code",
      "execution_count": 1,
      "metadata": {
        "colab": {},
        "colab_type": "code",
        "id": "Aiw6KBUnJprN"
      },
      "outputs": [],
      "source": [
        "import numpy as np\n",
        "from sklearn.utils.class_weight import compute_class_weight\n",
        "import tensorflow as tf\n",
        "from keras.models import Sequential\n",
        "from keras.layers import Convolution2D, MaxPooling2D, BatchNormalization, Flatten, Dropout, Dense\n",
        "from mnist import MNIST\n",
        "import matplotlib.pyplot as plt"
      ]
    },
    {
      "cell_type": "code",
      "execution_count": 1,
      "metadata": {},
      "outputs": [],
      "source": [
        "#run once to download data\n",
        "#Source for dataset: https://www.nist.gov/node/1298471/emnist-dataset\n",
        "\n",
        "# !wget https://www.itl.nist.gov/iaui/vip/cs_links/EMNIST/gzip.zip\n",
        "# !unzip gzip.zip #use Expand-Archive -Path \"your_archive.zip\" -DestinationPath \"destination_folder\" in windows\n",
        "# !rm gzip.zip #use del in windows"
      ]
    },
    {
      "cell_type": "markdown",
      "metadata": {
        "colab_type": "text",
        "id": "9O5MTk2Iz6QE"
      },
      "source": [
        "# Preparing data set"
      ]
    },
    {
      "cell_type": "code",
      "execution_count": 2,
      "metadata": {
        "colab": {},
        "colab_type": "code",
        "id": "YS-MvaU7uekd"
      },
      "outputs": [],
      "source": [
        "# load the entire EMNIST dataset as numpy arrays\n",
        "emnist_data = MNIST(path='gzip', return_type='numpy')\n",
        "emnist_data.select_emnist('byclass')\n",
        "x_train, y_train = emnist_data.load_training()\n",
        "x_test, y_test = emnist_data.load_testing()"
      ]
    },
    {
      "cell_type": "code",
      "execution_count": 3,
      "metadata": {},
      "outputs": [
        {
          "data": {
            "text/plain": [
              "((697932, 784), (697932,), (116323, 784), (116323,))"
            ]
          },
          "execution_count": 3,
          "metadata": {},
          "output_type": "execute_result"
        }
      ],
      "source": [
        "x_train.shape, y_train.shape, x_test.shape, y_test.shape"
      ]
    },
    {
      "cell_type": "code",
      "execution_count": 8,
      "metadata": {},
      "outputs": [],
      "source": [
        "# filter only the letters and not the digits\n",
        "labels = np.array(range(10, 62))\n",
        "train_mask = np.isin(y_train, labels)\n",
        "test_mask = np.isin(y_test, labels)\n",
        "\n",
        "train_images = x_train[train_mask]\n",
        "train_labels = y_train[train_mask]\n",
        "\n",
        "test_images = x_test[test_mask]\n",
        "test_labels = y_test[test_mask]"
      ]
    },
    {
      "cell_type": "code",
      "execution_count": 9,
      "metadata": {
        "colab": {},
        "colab_type": "code",
        "id": "JVNkttOAwDHc"
      },
      "outputs": [
        {
          "data": {
            "text/plain": [
              "((352897, 784), (352897,), (58405, 784), (58405,))"
            ]
          },
          "execution_count": 9,
          "metadata": {},
          "output_type": "execute_result"
        }
      ],
      "source": [
        "train_images.shape, train_labels.shape, test_images.shape, test_labels.shape"
      ]
    },
    {
      "cell_type": "code",
      "execution_count": 10,
      "metadata": {
        "colab": {},
        "colab_type": "code",
        "id": "TzwkstkWvr8k"
      },
      "outputs": [
        {
          "data": {
            "text/plain": [
              "((697932, 28, 28, 1), (116323, 28, 28, 1))"
            ]
          },
          "execution_count": 10,
          "metadata": {},
          "output_type": "execute_result"
        }
      ],
      "source": [
        "img_side = 28\n",
        "# Reshape tensors to [n, y, x, 1] and normalize the pixel values between [0, 1]\n",
        "x_train = x_train.reshape(-1, img_side, img_side, 1).astype('float32') / 255.0\n",
        "x_test = x_test.reshape(-1, img_side, img_side, 1).astype('float32') / 255.0\n",
        "\n",
        "x_train.shape, x_test.shape"
      ]
    },
    {
      "cell_type": "code",
      "execution_count": 11,
      "metadata": {
        "colab": {},
        "colab_type": "code",
        "id": "mv3F3j4HgUaE"
      },
      "outputs": [],
      "source": [
        "# get number of classes\n",
        "unique_classes = np.unique(y_train)\n",
        "num_classes = len(unique_classes)\n",
        "\n",
        "input_shape = (img_side, img_side, 1)\n",
        "\n",
        "# weight the classes (to combat the imbalance)\n",
        "class_weights = dict(enumerate(compute_class_weight(class_weight='balanced', classes=unique_classes, y=y_train)))\n",
        "\n",
        "# Convert class vectors to binary class matrices\n",
        "y_train = tf.keras.utils.to_categorical(y_train, num_classes)\n",
        "y_test = tf.keras.utils.to_categorical(y_test, num_classes)"
      ]
    },
    {
      "cell_type": "code",
      "execution_count": 12,
      "metadata": {
        "colab": {},
        "colab_type": "code",
        "id": "BBa-KONLdD9U"
      },
      "outputs": [],
      "source": [
        "#Create model\n",
        "kernel_size = (5, 5)\n",
        "def createmodel():\n",
        "    return Sequential([\n",
        "        Convolution2D(16, kernel_size=kernel_size, padding='same', input_shape=input_shape, activation='relu'),\n",
        "        MaxPooling2D(pool_size=(2, 2)),\n",
        "        BatchNormalization(),\n",
        "        Dropout(0.4),\n",
        "        Convolution2D(32, kernel_size=kernel_size, padding='same', activation= 'relu'), #strides=2,\n",
        "        MaxPooling2D(pool_size=(2, 2)),\n",
        "        BatchNormalization(),\n",
        "        Dropout(0.4),\n",
        "        Convolution2D(64, kernel_size=kernel_size, padding='same', activation= 'relu'),\n",
        "        MaxPooling2D(pool_size =(2,2)),\n",
        "        BatchNormalization(),\n",
        "        Dropout(0.4),\n",
        "        Flatten(),\n",
        "        Dense(256, activation='relu'),\n",
        "        BatchNormalization(),\n",
        "        Dropout(0.4),\n",
        "        Dense(num_classes, activation='softmax'),\n",
        "    ])"
      ]
    },
    {
      "cell_type": "code",
      "execution_count": 13,
      "metadata": {
        "colab": {},
        "colab_type": "code",
        "id": "yZUPvdQogxL6"
      },
      "outputs": [],
      "source": [
        "# setting up model to run on cpu, or gpu when avaiable\n",
        "model = createmodel()\n",
        "model.compile(loss=\"categorical_crossentropy\",\n",
        "        optimizer=\"adam\",\n",
        "        metrics=[\"accuracy\"])"
      ]
    },
    {
      "cell_type": "code",
      "execution_count": 10,
      "metadata": {
        "colab": {},
        "colab_type": "code",
        "id": "zXwnmXzzuwUe"
      },
      "outputs": [
        {
          "name": "stdout",
          "output_type": "stream",
          "text": [
            "Model: \"sequential\"\n",
            "_________________________________________________________________\n",
            " Layer (type)                Output Shape              Param #   \n",
            "=================================================================\n",
            " conv2d (Conv2D)             (None, 28, 28, 16)        416       \n",
            "                                                                 \n",
            " max_pooling2d (MaxPooling2  (None, 14, 14, 16)        0         \n",
            " D)                                                              \n",
            "                                                                 \n",
            " batch_normalization (Batch  (None, 14, 14, 16)        64        \n",
            " Normalization)                                                  \n",
            "                                                                 \n",
            " dropout (Dropout)           (None, 14, 14, 16)        0         \n",
            "                                                                 \n",
            " conv2d_1 (Conv2D)           (None, 14, 14, 32)        12832     \n",
            "                                                                 \n",
            " max_pooling2d_1 (MaxPoolin  (None, 7, 7, 32)          0         \n",
            " g2D)                                                            \n",
            "                                                                 \n",
            " batch_normalization_1 (Bat  (None, 7, 7, 32)          128       \n",
            " chNormalization)                                                \n",
            "                                                                 \n",
            " dropout_1 (Dropout)         (None, 7, 7, 32)          0         \n",
            "                                                                 \n",
            " conv2d_2 (Conv2D)           (None, 7, 7, 64)          51264     \n",
            "                                                                 \n",
            " max_pooling2d_2 (MaxPoolin  (None, 3, 3, 64)          0         \n",
            " g2D)                                                            \n",
            "                                                                 \n",
            " batch_normalization_2 (Bat  (None, 3, 3, 64)          256       \n",
            " chNormalization)                                                \n",
            "                                                                 \n",
            " dropout_2 (Dropout)         (None, 3, 3, 64)          0         \n",
            "                                                                 \n",
            " flatten (Flatten)           (None, 576)               0         \n",
            "                                                                 \n",
            " dense (Dense)               (None, 256)               147712    \n",
            "                                                                 \n",
            " batch_normalization_3 (Bat  (None, 256)               1024      \n",
            " chNormalization)                                                \n",
            "                                                                 \n",
            " dropout_3 (Dropout)         (None, 256)               0         \n",
            "                                                                 \n",
            " dense_1 (Dense)             (None, 26)                6682      \n",
            "                                                                 \n",
            "=================================================================\n",
            "Total params: 220378 (860.85 KB)\n",
            "Trainable params: 219642 (857.98 KB)\n",
            "Non-trainable params: 736 (2.88 KB)\n",
            "_________________________________________________________________\n"
          ]
        }
      ],
      "source": [
        "model.summary()"
      ]
    },
    {
      "cell_type": "code",
      "execution_count": 14,
      "metadata": {
        "colab": {},
        "colab_type": "code",
        "id": "0CTRnNpLs2hg"
      },
      "outputs": [],
      "source": [
        "#Train model\n",
        "es = tf.keras.callbacks.EarlyStopping(\n",
        "    monitor='val_loss',\n",
        "    mode='min',\n",
        "    verbose=1,\n",
        "    patience=10,\n",
        "    restore_best_weights=True)"
      ]
    },
    {
      "cell_type": "code",
      "execution_count": 15,
      "metadata": {
        "colab": {},
        "colab_type": "code",
        "id": "ryc_Vx-ugx3q"
      },
      "outputs": [
        {
          "name": "stdout",
          "output_type": "stream",
          "text": [
            "Epoch 1/200\n",
            "70/70 [==============================] - 83s 1s/step - loss: 1.7355 - accuracy: 0.5546 - val_loss: 4.4082 - val_accuracy: 0.0907\n",
            "Epoch 2/200\n",
            "70/70 [==============================] - 81s 1s/step - loss: 0.8015 - accuracy: 0.7459 - val_loss: 5.5885 - val_accuracy: 0.0198\n",
            "Epoch 3/200\n",
            "70/70 [==============================] - 82s 1s/step - loss: 0.6588 - accuracy: 0.7837 - val_loss: 5.5171 - val_accuracy: 0.0163\n",
            "Epoch 4/200\n",
            "70/70 [==============================] - 82s 1s/step - loss: 0.5921 - accuracy: 0.8020 - val_loss: 4.6505 - val_accuracy: 0.0716\n",
            "Epoch 5/200\n",
            "70/70 [==============================] - 83s 1s/step - loss: 0.5549 - accuracy: 0.8125 - val_loss: 2.5618 - val_accuracy: 0.2805\n",
            "Epoch 6/200\n",
            "70/70 [==============================] - 81s 1s/step - loss: 0.5304 - accuracy: 0.8195 - val_loss: 1.2092 - val_accuracy: 0.6211\n",
            "Epoch 7/200\n",
            "70/70 [==============================] - 81s 1s/step - loss: 0.5098 - accuracy: 0.8252 - val_loss: 0.6712 - val_accuracy: 0.7690\n",
            "Epoch 8/200\n",
            "70/70 [==============================] - 82s 1s/step - loss: 0.4961 - accuracy: 0.8285 - val_loss: 0.5024 - val_accuracy: 0.8197\n",
            "Epoch 9/200\n",
            "70/70 [==============================] - 82s 1s/step - loss: 0.4842 - accuracy: 0.8319 - val_loss: 0.4301 - val_accuracy: 0.8433\n",
            "Epoch 10/200\n",
            "70/70 [==============================] - 82s 1s/step - loss: 0.4759 - accuracy: 0.8340 - val_loss: 0.4069 - val_accuracy: 0.8490\n",
            "Epoch 11/200\n",
            "70/70 [==============================] - 82s 1s/step - loss: 0.4680 - accuracy: 0.8364 - val_loss: 0.4005 - val_accuracy: 0.8531\n",
            "Epoch 12/200\n",
            "70/70 [==============================] - 82s 1s/step - loss: 0.4615 - accuracy: 0.8381 - val_loss: 0.3853 - val_accuracy: 0.8574\n",
            "Epoch 13/200\n",
            "70/70 [==============================] - 81s 1s/step - loss: 0.4561 - accuracy: 0.8396 - val_loss: 0.3935 - val_accuracy: 0.8543\n",
            "Epoch 14/200\n",
            "70/70 [==============================] - 81s 1s/step - loss: 0.4515 - accuracy: 0.8410 - val_loss: 0.3820 - val_accuracy: 0.8580\n",
            "Epoch 15/200\n",
            "70/70 [==============================] - 82s 1s/step - loss: 0.4467 - accuracy: 0.8417 - val_loss: 0.3835 - val_accuracy: 0.8569\n",
            "Epoch 16/200\n",
            "70/70 [==============================] - 82s 1s/step - loss: 0.4430 - accuracy: 0.8433 - val_loss: 0.3825 - val_accuracy: 0.8580\n",
            "Epoch 17/200\n",
            "70/70 [==============================] - 82s 1s/step - loss: 0.4405 - accuracy: 0.8437 - val_loss: 0.3696 - val_accuracy: 0.8625\n",
            "Epoch 18/200\n",
            "70/70 [==============================] - 81s 1s/step - loss: 0.4364 - accuracy: 0.8449 - val_loss: 0.3733 - val_accuracy: 0.8606\n",
            "Epoch 19/200\n",
            "70/70 [==============================] - 83s 1s/step - loss: 0.4348 - accuracy: 0.8452 - val_loss: 0.3661 - val_accuracy: 0.8636\n",
            "Epoch 20/200\n",
            "70/70 [==============================] - 84s 1s/step - loss: 0.4313 - accuracy: 0.8461 - val_loss: 0.3734 - val_accuracy: 0.8610\n",
            "Epoch 21/200\n",
            "70/70 [==============================] - 82s 1s/step - loss: 0.4295 - accuracy: 0.8463 - val_loss: 0.3650 - val_accuracy: 0.8633\n",
            "Epoch 22/200\n",
            "70/70 [==============================] - 80s 1s/step - loss: 0.4267 - accuracy: 0.8473 - val_loss: 0.3635 - val_accuracy: 0.8646\n",
            "Epoch 23/200\n",
            "70/70 [==============================] - 82s 1s/step - loss: 0.4249 - accuracy: 0.8480 - val_loss: 0.3638 - val_accuracy: 0.8633\n",
            "Epoch 24/200\n",
            "70/70 [==============================] - 83s 1s/step - loss: 0.4231 - accuracy: 0.8483 - val_loss: 0.3669 - val_accuracy: 0.8634\n",
            "Epoch 25/200\n",
            "70/70 [==============================] - 82s 1s/step - loss: 0.4222 - accuracy: 0.8486 - val_loss: 0.3639 - val_accuracy: 0.8630\n",
            "Epoch 26/200\n",
            "70/70 [==============================] - 83s 1s/step - loss: 0.4206 - accuracy: 0.8489 - val_loss: 0.3594 - val_accuracy: 0.8648\n",
            "Epoch 27/200\n",
            "70/70 [==============================] - 83s 1s/step - loss: 0.4197 - accuracy: 0.8492 - val_loss: 0.3575 - val_accuracy: 0.8655\n",
            "Epoch 28/200\n",
            "70/70 [==============================] - 82s 1s/step - loss: 0.4171 - accuracy: 0.8500 - val_loss: 0.3603 - val_accuracy: 0.8644\n",
            "Epoch 29/200\n",
            "70/70 [==============================] - 83s 1s/step - loss: 0.4158 - accuracy: 0.8506 - val_loss: 0.3585 - val_accuracy: 0.8655\n",
            "Epoch 30/200\n",
            "70/70 [==============================] - 82s 1s/step - loss: 0.4148 - accuracy: 0.8507 - val_loss: 0.3578 - val_accuracy: 0.8658\n",
            "Epoch 31/200\n",
            "70/70 [==============================] - 81s 1s/step - loss: 0.4142 - accuracy: 0.8507 - val_loss: 0.3554 - val_accuracy: 0.8660\n",
            "Epoch 32/200\n",
            "70/70 [==============================] - 81s 1s/step - loss: 0.4127 - accuracy: 0.8514 - val_loss: 0.3548 - val_accuracy: 0.8662\n",
            "Epoch 33/200\n",
            "70/70 [==============================] - 82s 1s/step - loss: 0.4121 - accuracy: 0.8516 - val_loss: 0.3557 - val_accuracy: 0.8662\n",
            "Epoch 34/200\n",
            "70/70 [==============================] - 82s 1s/step - loss: 0.4109 - accuracy: 0.8516 - val_loss: 0.3525 - val_accuracy: 0.8681\n",
            "Epoch 35/200\n",
            "70/70 [==============================] - 83s 1s/step - loss: 0.4103 - accuracy: 0.8519 - val_loss: 0.3587 - val_accuracy: 0.8652\n",
            "Epoch 36/200\n",
            "70/70 [==============================] - 83s 1s/step - loss: 0.4099 - accuracy: 0.8518 - val_loss: 0.3526 - val_accuracy: 0.8675\n",
            "Epoch 37/200\n",
            "70/70 [==============================] - 82s 1s/step - loss: 0.4085 - accuracy: 0.8523 - val_loss: 0.3556 - val_accuracy: 0.8660\n",
            "Epoch 38/200\n",
            "70/70 [==============================] - 84s 1s/step - loss: 0.4081 - accuracy: 0.8526 - val_loss: 0.3570 - val_accuracy: 0.8655\n",
            "Epoch 39/200\n",
            "70/70 [==============================] - 83s 1s/step - loss: 0.4074 - accuracy: 0.8526 - val_loss: 0.3524 - val_accuracy: 0.8679\n",
            "Epoch 40/200\n",
            "70/70 [==============================] - 83s 1s/step - loss: 0.4059 - accuracy: 0.8529 - val_loss: 0.3548 - val_accuracy: 0.8662\n",
            "Epoch 41/200\n",
            "70/70 [==============================] - 83s 1s/step - loss: 0.4055 - accuracy: 0.8529 - val_loss: 0.3485 - val_accuracy: 0.8694\n",
            "Epoch 42/200\n",
            "70/70 [==============================] - 83s 1s/step - loss: 0.4049 - accuracy: 0.8538 - val_loss: 0.3513 - val_accuracy: 0.8679\n",
            "Epoch 43/200\n",
            "70/70 [==============================] - 83s 1s/step - loss: 0.4039 - accuracy: 0.8534 - val_loss: 0.3482 - val_accuracy: 0.8691\n",
            "Epoch 44/200\n",
            "70/70 [==============================] - 82s 1s/step - loss: 0.4040 - accuracy: 0.8541 - val_loss: 0.3526 - val_accuracy: 0.8673\n",
            "Epoch 45/200\n",
            "70/70 [==============================] - 82s 1s/step - loss: 0.4030 - accuracy: 0.8540 - val_loss: 0.3508 - val_accuracy: 0.8677\n",
            "Epoch 46/200\n",
            "70/70 [==============================] - 83s 1s/step - loss: 0.4024 - accuracy: 0.8541 - val_loss: 0.3488 - val_accuracy: 0.8686\n",
            "Epoch 47/200\n",
            "70/70 [==============================] - 82s 1s/step - loss: 0.4022 - accuracy: 0.8538 - val_loss: 0.3494 - val_accuracy: 0.8681\n",
            "Epoch 48/200\n",
            "70/70 [==============================] - 83s 1s/step - loss: 0.4016 - accuracy: 0.8544 - val_loss: 0.3451 - val_accuracy: 0.8701\n",
            "Epoch 49/200\n",
            "70/70 [==============================] - 83s 1s/step - loss: 0.4004 - accuracy: 0.8544 - val_loss: 0.3505 - val_accuracy: 0.8671\n",
            "Epoch 50/200\n",
            "70/70 [==============================] - 82s 1s/step - loss: 0.4002 - accuracy: 0.8547 - val_loss: 0.3540 - val_accuracy: 0.8667\n",
            "Epoch 51/200\n",
            "70/70 [==============================] - 83s 1s/step - loss: 0.3998 - accuracy: 0.8553 - val_loss: 0.3472 - val_accuracy: 0.8690\n",
            "Epoch 52/200\n",
            "70/70 [==============================] - 83s 1s/step - loss: 0.3995 - accuracy: 0.8549 - val_loss: 0.3495 - val_accuracy: 0.8683\n",
            "Epoch 53/200\n",
            "70/70 [==============================] - 83s 1s/step - loss: 0.3996 - accuracy: 0.8548 - val_loss: 0.3476 - val_accuracy: 0.8690\n",
            "Epoch 54/200\n",
            "70/70 [==============================] - 83s 1s/step - loss: 0.3992 - accuracy: 0.8551 - val_loss: 0.3507 - val_accuracy: 0.8681\n",
            "Epoch 55/200\n",
            "70/70 [==============================] - 82s 1s/step - loss: 0.3986 - accuracy: 0.8554 - val_loss: 0.3463 - val_accuracy: 0.8696\n",
            "Epoch 56/200\n",
            "70/70 [==============================] - 83s 1s/step - loss: 0.3984 - accuracy: 0.8550 - val_loss: 0.3480 - val_accuracy: 0.8686\n",
            "Epoch 57/200\n",
            "70/70 [==============================] - 83s 1s/step - loss: 0.3974 - accuracy: 0.8553 - val_loss: 0.3531 - val_accuracy: 0.8661\n",
            "Epoch 58/200\n",
            "70/70 [==============================] - ETA: 0s - loss: 0.3971 - accuracy: 0.8557Restoring model weights from the end of the best epoch: 48.\n",
            "70/70 [==============================] - 83s 1s/step - loss: 0.3971 - accuracy: 0.8557 - val_loss: 0.3486 - val_accuracy: 0.8682\n",
            "Epoch 58: early stopping\n"
          ]
        },
        {
          "data": {
            "text/plain": [
              "<keras.src.callbacks.History at 0x2ac72f9a250>"
            ]
          },
          "execution_count": 15,
          "metadata": {},
          "output_type": "execute_result"
        }
      ],
      "source": [
        "model.fit(x_train, y_train,\n",
        "          #class_weight=class_weights,\n",
        "          batch_size=10000,\n",
        "          epochs=200,\n",
        "          verbose=1,\n",
        "          shuffle=True,\n",
        "          validation_data=(x_test, y_test),\n",
        "          callbacks=[es])"
      ]
    },
    {
      "cell_type": "code",
      "execution_count": 16,
      "metadata": {
        "colab": {},
        "colab_type": "code",
        "id": "6fKg6PqEkyLB"
      },
      "outputs": [
        {
          "name": "stdout",
          "output_type": "stream",
          "text": [
            "3636/3636 [==============================] - 16s 4ms/step - loss: 0.3451 - accuracy: 0.8701\n",
            "Test loss: 0.3451273739337921\n",
            "Test accuracy: 0.8700773119926453\n"
          ]
        }
      ],
      "source": [
        "#Evaluate model\n",
        "score = model.evaluate(x_test, y_test, verbose=1)\n",
        "print('Test loss:', score[0])\n",
        "print('Test accuracy:', score[1])"
      ]
    },
    {
      "cell_type": "code",
      "execution_count": 17,
      "metadata": {
        "colab": {},
        "colab_type": "code",
        "id": "DfSIKn45xUj-"
      },
      "outputs": [
        {
          "name": "stdout",
          "output_type": "stream",
          "text": [
            "3636/3636 [==============================] - 15s 4ms/step\n"
          ]
        }
      ],
      "source": [
        "y_pred = model.predict(x_test)"
      ]
    },
    {
      "cell_type": "code",
      "execution_count": 18,
      "metadata": {
        "colab": {},
        "colab_type": "code",
        "id": "IHQsUNI9QZWN"
      },
      "outputs": [],
      "source": [
        "import seaborn as sns\n",
        "import matplotlib.pyplot as plt\n",
        "import string\n",
        "from sklearn.metrics import confusion_matrix"
      ]
    },
    {
      "cell_type": "code",
      "execution_count": 22,
      "metadata": {
        "colab": {},
        "colab_type": "code",
        "id": "GOo-zuuKxZCc"
      },
      "outputs": [
        {
          "data": {
            "text/plain": [
              "<Axes: >"
            ]
          },
          "execution_count": 22,
          "metadata": {},
          "output_type": "execute_result"
        },
        {
          "data": {
            "image/png": "[encoded data removed]",
            "text/plain": [
              "<Figure size 1500x1500 with 2 Axes>"
            ]
          },
          "metadata": {},
          "output_type": "display_data"
        }
      ],
      "source": [
        "labels = string.ascii_letters\n",
        "plt.subplots(figsize=(15,15))\n",
        "sns.heatmap(confusion_matrix(np.argmax(y_test, axis=1), np.argmax(y_pred, axis=1)), xticklabels=labels, yticklabels=labels)"
      ]
    },
    {
      "cell_type": "code",
      "execution_count": 25,
      "metadata": {
        "colab": {},
        "colab_type": "code",
        "id": "0kj_LrqGwchm"
      },
      "outputs": [
        {
          "name": "stderr",
          "output_type": "stream",
          "text": [
            "c:\\Users\\ayus3\\AppData\\Local\\Programs\\Python\\Python311\\Lib\\site-packages\\keras\\src\\engine\\training.py:3000: UserWarning: You are saving your model as an HDF5 file via `model.save()`. This file format is considered legacy. We recommend using instead the native Keras format, e.g. `model.save('my_model.keras')`.\n",
            "  saving_api.save_model(\n"
          ]
        }
      ],
      "source": [
        "#Save model\n",
        "model.save(\"letters_only_cnn.h5\")"
      ]
    }
  ],
  "metadata": {
    "accelerator": "GPU",
    "colab": {
      "collapsed_sections": [],
      "machine_shape": "hm",
      "name": "EMNISTKeras_class.ipynb",
      "provenance": [],
      "toc_visible": true
    },
    "kernelspec": {
      "display_name": "Python 3",
      "name": "python3"
    },
    "language_info": {
      "codemirror_mode": {
        "name": "ipython",
        "version": 3
      },
      "file_extension": ".py",
      "mimetype": "text/x-python",
      "name": "python",
      "nbconvert_exporter": "python",
      "pygments_lexer": "ipython3",
      "version": "3.11.4"
    }
  },
  "nbformat": 4,
  "nbformat_minor": 0
}

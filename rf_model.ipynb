{
  "nbformat": 4,
  "nbformat_minor": 0,
  "metadata": {
    "colab": {
      "provenance": [],
      "authorship_tag": "ABX9TyNHmqZ6E+oFNt+t91X7+hNM",
      "include_colab_link": true
    },
    "kernelspec": {
      "name": "python3",
      "display_name": "Python 3"
    },
    "language_info": {
      "name": "python"
    }
  },
  "cells": [
    {
      "cell_type": "markdown",
      "metadata": {
        "id": "view-in-github",
        "colab_type": "text"
      },
      "source": [
        "<a href=\"https://colab.research.google.com/github/ashsProjects/Handwriting_to_3DPrinted_Braille/blob/main/rf_model.ipynb\" target=\"_parent\"><img src=\"https://colab.research.google.com/assets/colab-badge.svg\" alt=\"Open In Colab\"/></a>"
      ]
    },
    {
      "cell_type": "code",
      "execution_count": null,
      "metadata": {
        "id": "i-hzDDVbfJoC"
      },
      "outputs": [],
      "source": [
        "import numpy as np\n",
        "import pandas as pd\n",
        "import tensorflow as tf\n",
        "import matplotlib.pyplot as plt\n",
        "from PIL import Image\n",
        "from tensorflow import keras\n",
        "from sklearn.model_selection import train_test_split\n",
        "from sklearn.preprocessing import LabelEncoder\n",
        "\n",
        "from sklearn.ensemble import RandomForestClassifier\n",
        "from sklearn.neighbors import KNeighborsClassifier\n",
        "from sklearn.svm import SVC\n",
        "from sklearn.metrics import accuracy_score, precision_recall_fscore_support, confusion_matrix, classification_report"
      ]
    },
    {
      "cell_type": "code",
      "source": [
        "# Mount your Google Drive.\n",
        "from google.colab import drive\n",
        "drive.mount(\"/content/drive\")"
      ],
      "metadata": {
        "colab": {
          "base_uri": "https://localhost:8080/"
        },
        "id": "jlnYm2Rtx-j_",
        "outputId": "695d1fd0-9711-467e-b6a3-1f4a249a1314"
      },
      "execution_count": null,
      "outputs": [
        {
          "output_type": "stream",
          "name": "stdout",
          "text": [
            "Mounted at /content/drive\n"
          ]
        }
      ]
    },
    {
      "cell_type": "code",
      "source": [
        "kaggle_creds_path = \"//content/drive/MyDrive/CS370_Project/\""
      ],
      "metadata": {
        "id": "dFajVPK9x1bx"
      },
      "execution_count": null,
      "outputs": []
    },
    {
      "cell_type": "code",
      "source": [
        "! pip install kaggle --quiet"
      ],
      "metadata": {
        "id": "jAQpFYT20L0T"
      },
      "execution_count": null,
      "outputs": []
    },
    {
      "cell_type": "code",
      "source": [
        "! mkdir ~/.kaggle\n",
        "! cp /content/drive/MyDrive/CS370_Project/kaggle.json ~/.kaggle/\n",
        "! chmod 600 ~/.kaggle/kaggle.json"
      ],
      "metadata": {
        "id": "JjGjzrRZ0Pg8"
      },
      "execution_count": null,
      "outputs": []
    },
    {
      "cell_type": "code",
      "source": [
        "# Downloading dataset\n",
        "! kaggle datasets download -d crawford/emnist --path '/usr/local' --unzip"
      ],
      "metadata": {
        "colab": {
          "base_uri": "https://localhost:8080/"
        },
        "id": "jb2eEOuOf7Sp",
        "outputId": "43201bca-7ded-4d90-8c69-9554e7b88d0b"
      },
      "execution_count": null,
      "outputs": [
        {
          "output_type": "stream",
          "name": "stdout",
          "text": [
            "Downloading emnist.zip to /usr/local\n",
            " 99% 1.23G/1.24G [00:17<00:00, 96.9MB/s]\n",
            "100% 1.24G/1.24G [00:17<00:00, 77.3MB/s]\n"
          ]
        }
      ]
    },
    {
      "cell_type": "code",
      "source": [
        "# Creating df\n",
        "test_df = pd.read_csv('/usr/local/emnist-balanced-test.csv', header = None)\n",
        "train_df = pd.read_csv('/usr/local/emnist-balanced-train.csv', header = None)\n",
        "\n",
        "test_df.shape, train_df.shape"
      ],
      "metadata": {
        "id": "BIjVqVuMnIa_",
        "colab": {
          "base_uri": "https://localhost:8080/"
        },
        "outputId": "f094d40e-cabe-42d3-a5dc-5bb1f321bfc3"
      },
      "execution_count": null,
      "outputs": [
        {
          "output_type": "execute_result",
          "data": {
            "text/plain": [
              "((18800, 785), (112800, 785))"
            ]
          },
          "metadata": {},
          "execution_count": 7
        }
      ]
    },
    {
      "cell_type": "code",
      "source": [
        "#Merging data\n",
        "df = pd.concat([test_df, train_df], ignore_index = True)\n",
        "df.shape"
      ],
      "metadata": {
        "colab": {
          "base_uri": "https://localhost:8080/",
          "height": 210
        },
        "id": "HObnJbWzUhhR",
        "outputId": "7726c3ac-44ff-4c3b-f450-804b826ba225"
      },
      "execution_count": null,
      "outputs": [
        {
          "output_type": "error",
          "ename": "NameError",
          "evalue": "ignored",
          "traceback": [
            "\u001b[0;31m---------------------------------------------------------------------------\u001b[0m",
            "\u001b[0;31mNameError\u001b[0m                                 Traceback (most recent call last)",
            "\u001b[0;32m<ipython-input-7-70a2fd41aadd>\u001b[0m in \u001b[0;36m<cell line: 2>\u001b[0;34m()\u001b[0m\n\u001b[1;32m      1\u001b[0m \u001b[0;31m#Merging data\u001b[0m\u001b[0;34m\u001b[0m\u001b[0;34m\u001b[0m\u001b[0m\n\u001b[0;32m----> 2\u001b[0;31m \u001b[0mdf\u001b[0m \u001b[0;34m=\u001b[0m \u001b[0mpd\u001b[0m\u001b[0;34m.\u001b[0m\u001b[0mconcat\u001b[0m\u001b[0;34m(\u001b[0m\u001b[0;34m[\u001b[0m\u001b[0mtest_df\u001b[0m\u001b[0;34m,\u001b[0m \u001b[0mtrain_df\u001b[0m\u001b[0;34m]\u001b[0m\u001b[0;34m,\u001b[0m \u001b[0mignore_index\u001b[0m \u001b[0;34m=\u001b[0m \u001b[0;32mTrue\u001b[0m\u001b[0;34m)\u001b[0m\u001b[0;34m\u001b[0m\u001b[0;34m\u001b[0m\u001b[0m\n\u001b[0m\u001b[1;32m      3\u001b[0m \u001b[0mdf\u001b[0m\u001b[0;34m.\u001b[0m\u001b[0mshape\u001b[0m\u001b[0;34m\u001b[0m\u001b[0;34m\u001b[0m\u001b[0m\n",
            "\u001b[0;31mNameError\u001b[0m: name 'test_df' is not defined"
          ]
        }
      ]
    },
    {
      "cell_type": "code",
      "source": [
        "#Reading file for df\n",
        "label_map = pd.read_csv(\"/usr/local/emnist-balanced-mapping.txt\", delimiter = ' ', index_col = 0, header = None)\n",
        "label_map = label_map.iloc[:, 0]\n",
        "\n",
        "#Creating empty dictionary\n",
        "label_dict = {}\n",
        "\n",
        "#Looping for ASCII to char conversion\n",
        "for index, label in enumerate(label_map):\n",
        "  label_dict[index] = chr(label)\n",
        "\n",
        "#Visualize labels\n",
        "#label_dict"
      ],
      "metadata": {
        "id": "eZP2stsUYAvG"
      },
      "execution_count": null,
      "outputs": []
    },
    {
      "cell_type": "code",
      "source": [
        "#Preprocessing data\n",
        "#Remove missing values\n",
        "df.dropna(inplace = True)\n",
        "num_missing_values = df.isnull().sum().sum()\n",
        "\n",
        "#Remove duplicates\n",
        "df.drop_duplicates(inplace = True)\n",
        "num_duplicates = df.duplicated().sum()\n",
        "\n",
        "#Set grayscale values from 0 to 255\n",
        "df = np.clip(df, 0, 255)\n",
        "num_values_out_range = ((df < 0) | (df > 255)).sum().sum()\n",
        "\n",
        "#Printing values\n",
        "print(f\"# of missing values: {num_missing_values}\")\n",
        "print(f\"# of duplicates: {num_duplicates}\")\n",
        "print(f\"# of values outside of 0 - 255: {num_values_out_range}\")"
      ],
      "metadata": {
        "id": "xy62KUQTY9rX"
      },
      "execution_count": null,
      "outputs": []
    },
    {
      "cell_type": "code",
      "source": [
        "#Splitting data into x and y\n",
        "x = df.loc[:, 1:]\n",
        "y = df.loc[:, 0]\n",
        "\n",
        "#Checking size of data\n",
        "x.shape, y.shape"
      ],
      "metadata": {
        "id": "v6oxywK1apEK"
      },
      "execution_count": null,
      "outputs": []
    },
    {
      "cell_type": "code",
      "source": [
        "#Looking at sample image\n",
        "sample_img = x.iloc[50]\n",
        "sample_label = y.iloc[50]\n",
        "\n",
        "plt.imshow(sample_img.values.reshape(28, 28), cmap = plt.cm.gray)\n",
        "plt.show"
      ],
      "metadata": {
        "id": "isSBjxesbjpg"
      },
      "execution_count": null,
      "outputs": []
    },
    {
      "cell_type": "code",
      "source": [
        "def flip_rotate(image):\n",
        "  image = image.reshape(28, 28)\n",
        "  image = np.fliplr(image)\n",
        "  image = np.rot90(image)\n",
        "  return image"
      ],
      "metadata": {
        "id": "DFx7GfOZfPGE"
      },
      "execution_count": null,
      "outputs": []
    },
    {
      "cell_type": "code",
      "source": [
        "#Converting df to numpy array\n",
        "xnp = np.asarray(x)\n",
        "xnp.shape"
      ],
      "metadata": {
        "id": "v3M_87qYa9DL"
      },
      "execution_count": null,
      "outputs": []
    },
    {
      "cell_type": "code",
      "source": [
        "#Reshaping images\n",
        "xnp = np.apply_along_axis(flip_rotate, 1, xnp)\n",
        "xnp.shape"
      ],
      "metadata": {
        "id": "KSPrD_v7ddnC"
      },
      "execution_count": null,
      "outputs": []
    },
    {
      "cell_type": "code",
      "source": [
        "#Looking at sample image\n",
        "plt.imshow(xnp[400])"
      ],
      "metadata": {
        "id": "k74qRL4JgH6K"
      },
      "execution_count": null,
      "outputs": []
    },
    {
      "cell_type": "code",
      "source": [
        "#Flatten images\n",
        "xf = xnp.reshape(xnp.shape[0], -1)\n",
        "xf.shape"
      ],
      "metadata": {
        "id": "VZi3XFP7fxAn"
      },
      "execution_count": null,
      "outputs": []
    },
    {
      "cell_type": "code",
      "source": [
        "#Splitting data into train, test, and validation sets\n",
        "\n",
        "#Getting test set\n",
        "#Set random state to same number for testing purposes, remove when done\n",
        "x_train, x_test, y_train, y_test = train_test_split(xf, y, test_size = 0.3, stratify = y, random_state = 50)\n",
        "\n",
        "#Getting train and validation set\n",
        "#x_train, x_val, y_train, y_val = train_test_split(xf, y, test_size = 0.3, stratify = y, random_state = 50)\n",
        "\n",
        "x_train.shape, x_test.shape"
      ],
      "metadata": {
        "id": "v0rEeQmuhCK5"
      },
      "execution_count": null,
      "outputs": []
    },
    {
      "cell_type": "code",
      "source": [
        "#Reshape data\n",
        "# Assuming X_train and X_test are your input data\n",
        "# Reshape the input data to 3D (height, width, channels)\n",
        "#x_train_reshaped = x_train.reshape(-1, 28, 28, 1)\n",
        "#x_test_reshaped = x_test.reshape(-1, 28, 28, 1)\n",
        "#x_val_reshaped = x_val.reshape(-1, 28, 28, 1)\n",
        "\n",
        "#One-hot encode the target labels for categorical classification.\n",
        "y_train = tf.keras.utils.to_categorical(y_train, 47)  # 47 classes (26 letters + 9 numbers + 1 for 'none')\n",
        "y_test = tf.keras.utils.to_categorical(y_test, 47)"
      ],
      "metadata": {
        "id": "bZ5of0beqVo6"
      },
      "execution_count": null,
      "outputs": []
    },
    {
      "cell_type": "code",
      "source": [
        "# Create the Random Forest model\n",
        "rf_model = RandomForestClassifier(n_estimators=100)\n",
        "\n",
        "# Train the model on your training set\n",
        "rf_model.fit(x_train, y_train)\n",
        "\n",
        "# Predict the labels of your validation set\n",
        "y_pred_rf = rf_model.predict(x_test)\n",
        "\n",
        "# Calculate accuracy\n",
        "accuracy_rf = accuracy_score(y_test, y_pred_rf)\n",
        "\n",
        "# Calculate precision, recall, and f1 score\n",
        "precision_rf, recall_rf, f1_rf, _ = precision_recall_fscore_support(y_test, y_pred_rf, average='weighted')\n",
        "\n",
        "# Print the evaluation metrics\n",
        "print(\"Accuracy:\", accuracy_rf)\n",
        "print(\"Precision:\", precision_rf)\n",
        "print(\"Recall:\", recall_rf)\n",
        "print(\"F1 Score:\", f1_rf)"
      ],
      "metadata": {
        "id": "ll0YHrNzvOGq"
      },
      "execution_count": null,
      "outputs": []
    },
    {
      "cell_type": "code",
      "source": [
        "# Create a KNN classifier with k=5\n",
        "knn_model = KNeighborsClassifier(n_neighbors=5)\n",
        "\n",
        "# Train the model on your training set\n",
        "knn_model.fit(x_train, y_train)\n",
        "\n",
        "# Predict the labels of your validation set\n",
        "y_pred_knn = knn_model.predict(x_test)\n",
        "\n",
        "# Calculate accuracy\n",
        "accuracy_knn = accuracy_score(y_test, y_pred_knn)\n",
        "\n",
        "# Calculate precision, recall, and f1 score\n",
        "precision_knn, recall_knn, f1_knn, _ = precision_recall_fscore_support(y_test, y_pred_knn, average='weighted')\n",
        "\n",
        "# Print the evaluation metrics\n",
        "print(\"Accuracy:\", accuracy_knn)\n",
        "print(\"Precision:\", precision_knn)\n",
        "print(\"Recall:\", recall_knn)\n",
        "print(\"F1 Score:\", f1_knn)"
      ],
      "metadata": {
        "id": "NBdBNr5UwqB2"
      },
      "execution_count": null,
      "outputs": []
    },
    {
      "cell_type": "code",
      "source": [
        "#Convert model to TF Lite\n",
        "converter = tf.lite.TFLiteConverter.from_keras_model(rf_model)\n",
        "converter.optimizations = [tf.lite.Optimize.DEFAULT]\n",
        "tflite_quant_model = converter.convert()"
      ],
      "metadata": {
        "id": "XAh0BbMwqWQU"
      },
      "execution_count": null,
      "outputs": []
    },
    {
      "cell_type": "code",
      "source": [
        "#Exporting to .tflite file\n",
        "import logging\n",
        "import pathlib\n",
        "tflite_models_dir = pathlib.Path(\"/tmp/CS370_Project_tflite_models/\")\n",
        "tflite_models_dir.mkdir(exist_ok=True, parents=True)\n",
        "\n",
        "tflite_model_file = tflite_models_dir/\"CS370_Project.tflite\"\n",
        "tflite_model_file.write_bytes(tflite_quant_model)"
      ],
      "metadata": {
        "id": "lUgujAluqZ4N"
      },
      "execution_count": null,
      "outputs": []
    },
    {
      "cell_type": "code",
      "source": [
        "#Download file\n",
        "from google.colab import files\n",
        "\n",
        "with open('s_CS370_Project.tflite', 'w') as f:\n",
        "  f.write('s_CS370_Project.tflite')\n",
        "\n",
        "files.download('s_CS370_Project.tflite')"
      ],
      "metadata": {
        "id": "ruvT5EibPM7V",
        "colab": {
          "base_uri": "https://localhost:8080/",
          "height": 17
        },
        "outputId": "193e83c4-629a-41b6-c206-520793de207f"
      },
      "execution_count": null,
      "outputs": [
        {
          "output_type": "display_data",
          "data": {
            "text/plain": [
              "<IPython.core.display.Javascript object>"
            ],
            "application/javascript": [
              "\n",
              "    async function download(id, filename, size) {\n",
              "      if (!google.colab.kernel.accessAllowed) {\n",
              "        return;\n",
              "      }\n",
              "      const div = document.createElement('div');\n",
              "      const label = document.createElement('label');\n",
              "      label.textContent = `Downloading \"${filename}\": `;\n",
              "      div.appendChild(label);\n",
              "      const progress = document.createElement('progress');\n",
              "      progress.max = size;\n",
              "      div.appendChild(progress);\n",
              "      document.body.appendChild(div);\n",
              "\n",
              "      const buffers = [];\n",
              "      let downloaded = 0;\n",
              "\n",
              "      const channel = await google.colab.kernel.comms.open(id);\n",
              "      // Send a message to notify the kernel that we're ready.\n",
              "      channel.send({})\n",
              "\n",
              "      for await (const message of channel.messages) {\n",
              "        // Send a message to notify the kernel that we're ready.\n",
              "        channel.send({})\n",
              "        if (message.buffers) {\n",
              "          for (const buffer of message.buffers) {\n",
              "            buffers.push(buffer);\n",
              "            downloaded += buffer.byteLength;\n",
              "            progress.value = downloaded;\n",
              "          }\n",
              "        }\n",
              "      }\n",
              "      const blob = new Blob(buffers, {type: 'application/binary'});\n",
              "      const a = document.createElement('a');\n",
              "      a.href = window.URL.createObjectURL(blob);\n",
              "      a.download = filename;\n",
              "      div.appendChild(a);\n",
              "      a.click();\n",
              "      div.remove();\n",
              "    }\n",
              "  "
            ]
          },
          "metadata": {}
        },
        {
          "output_type": "display_data",
          "data": {
            "text/plain": [
              "<IPython.core.display.Javascript object>"
            ],
            "application/javascript": [
              "download(\"download_c424628f-a536-40e5-a6fd-a71ce320c724\", \"s_ML_Trainer.tflite\", 19)"
            ]
          },
          "metadata": {}
        }
      ]
    },
    {
      "cell_type": "markdown",
      "source": [
        "Datasets\n",
        "\n",
        "https://www.kaggle.com/datasets/crawford/emnist\n",
        "\n",
        "References\n",
        "https://www.kaggle.com/code/khadijatagui/htr-character-recognition-using-machine-learning"
      ],
      "metadata": {
        "id": "00QkyKwdgUeP"
      }
    }
  ]
}